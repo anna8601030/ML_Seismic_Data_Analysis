{
 "cells": [
  {
   "cell_type": "markdown",
   "metadata": {},
   "source": [
    "## Reference: https://chriskang028.medium.com/statistic-hypothesis-testing-f766c129d632"
   ]
  },
  {
   "cell_type": "code",
   "execution_count": 96,
   "metadata": {},
   "outputs": [],
   "source": [
    "## Import the packages\n",
    "import numpy as np\n",
    "from scipy import stats\n",
    "from scipy.stats import norm\n",
    "from scipy.stats import ttest_ind, ttest_rel, ttest_1samp"
   ]
  },
  {
   "cell_type": "code",
   "execution_count": 113,
   "metadata": {},
   "outputs": [],
   "source": [
    "import pandas as pd\n",
    "import csv\n",
    "import pathlib\n",
    "import warnings\n",
    "import matplotlib.pyplot as plt\n",
    "import time\n",
    "from sklearn.preprocessing import StandardScaler\n",
    "from sklearn.neighbors import KNeighborsClassifier\n",
    "from sklearn.metrics import confusion_matrix\n",
    "from sklearn.model_selection import train_test_split, cross_val_score, cross_val_predict, LeaveOneOut\n",
    "from sklearn.metrics import balanced_accuracy_score\n",
    "from sklearn.metrics import recall_score\n",
    "from scipy.io import loadmat\n",
    "from mlxtend.feature_selection import SequentialFeatureSelector as SFS\n",
    "import os\n",
    "warnings.simplefilter(\"ignore\")\n",
    "\n",
    "############################################\n",
    "data_type   = 'mat'\n",
    "#              mat: MAT file (MATLAB)\n",
    "#              csv: CSV file\n",
    "mat_name    = '/Users/chiuhaoyu/Desktop/Shikoku_project/Output/WS-ES_WS-c_events_Ecomp_3stations_feature.mat'\n",
    "mat_name1   = '/Users/chiuhaoyu/Desktop/Shikoku_project/Output/WS-ES_WS-c_events_Ecomp_3stations_feature.mat'\n",
    "\n",
    "# MAT name, for data_type = 'mat' only"
   ]
  },
  {
   "cell_type": "code",
   "execution_count": 114,
   "metadata": {},
   "outputs": [
    {
     "name": "stdout",
     "output_type": "stream",
     "text": [
      "Data: \n",
      "Ta-Sa: 20631\n",
      "Tb-Sb: 20631\n"
     ]
    }
   ],
   "source": [
    "mat = loadmat(mat_name)\n",
    "mat1 = loadmat(mat_name1)\n",
    "Fvect = mat['C_data'][0]\n",
    "Fvect1 = mat1['C_data'][0]\n",
    "C1_TREMOR = Fvect[1]\n",
    "C2_TREMOR = Fvect1[2]\n",
    "print(f'Data: \\nTa-Sa: {len(C1_TREMOR)}\\nTb-Sb: {len(C2_TREMOR)}')"
   ]
  },
  {
   "cell_type": "code",
   "execution_count": 61,
   "metadata": {},
   "outputs": [
    {
     "name": "stdout",
     "output_type": "stream",
     "text": [
      "Data: \n",
      "Ta-Sa: 7500\n",
      "Tb-Sb: 7500\n"
     ]
    }
   ],
   "source": [
    "##################################################\n",
    "row_rand_C1_TREMOR = np.arange(C1_TREMOR.shape[0])\n",
    "np.random.shuffle(row_rand_C1_TREMOR)\n",
    "C1_TREMOR = C1_TREMOR[row_rand_C1_TREMOR[0:7500]]\n",
    "##################################################\n",
    "##################################################\n",
    "row_rand_C2_TREMOR = np.arange(C2_TREMOR.shape[0])\n",
    "np.random.shuffle(row_rand_C2_TREMOR)\n",
    "C2_TREMOR = C2_TREMOR[row_rand_C2_TREMOR[0:7500]]\n",
    "##################################################\n",
    "print(f'Data: \\nTa-Sa: {len(C1_TREMOR)}\\nTb-Sb: {len(C2_TREMOR)}')"
   ]
  },
  {
   "cell_type": "code",
   "execution_count": 101,
   "metadata": {},
   "outputs": [
    {
     "data": {
      "text/plain": [
       "7524"
      ]
     },
     "execution_count": 101,
     "metadata": {},
     "output_type": "execute_result"
    }
   ],
   "source": [
    "N = len(C1_TREMOR)\n",
    "N"
   ]
  },
  {
   "cell_type": "code",
   "execution_count": 115,
   "metadata": {},
   "outputs": [],
   "source": [
    "C1_TREMOR = C1_TREMOR.real\n",
    "C2_TREMOR = C2_TREMOR.real"
   ]
  },
  {
   "cell_type": "code",
   "execution_count": 116,
   "metadata": {},
   "outputs": [],
   "source": [
    "C1_TREMOR = C1_TREMOR[:,10]\n",
    "C2_TREMOR = C2_TREMOR[:,10]"
   ]
  },
  {
   "cell_type": "code",
   "execution_count": 117,
   "metadata": {},
   "outputs": [],
   "source": [
    "C1_TREMOR = C1_TREMOR / np.sqrt(np.sum(C1_TREMOR**2))\n",
    "C2_TREMOR = C2_TREMOR / np.sqrt(np.sum(C2_TREMOR**2))"
   ]
  },
  {
   "cell_type": "code",
   "execution_count": 118,
   "metadata": {},
   "outputs": [
    {
     "name": "stdout",
     "output_type": "stream",
     "text": [
      "t = 2.0720356660830115\n",
      "p = 0.0382791100892228\n",
      "t = 3.431096815666135\n",
      "p = 0.0012034692767029875\n"
     ]
    }
   ],
   "source": [
    "## Calculate the Standard Deviation\n",
    "#Calculate the variance to get the standard deviation\n",
    "#For unbiased max likelihood estimate we have to divide the var by N-1, and therefore the parameter ddof = 1\n",
    "var_a = C1_TREMOR.var(ddof=1)\n",
    "var_b = C2_TREMOR.var(ddof=1)\n",
    "\n",
    "#std deviation\n",
    "s = np.sqrt((var_a + var_b)/2)\n",
    "\n",
    "## 統計量，可參考上方樣本數不同時的公式\n",
    "t = (C1_TREMOR.mean() - C2_TREMOR.mean())/(s*np.sqrt(2/N))\n",
    "\n",
    "# Compare with the critical t-value\n",
    "# 自由度\n",
    "df = 2*N - 2\n",
    "# 計算 p-value after comparison with the t\n",
    "p = 1 - stats.t.cdf(t,df=df)\n",
    "# 結果\n",
    "print(\"t = \" + str(t))\n",
    "print(\"p = \" + str(2*p))\n",
    "# Note that we multiply the p value by 2 because its a twp tail t-test\n",
    "### You can see that after comparing the t statistic with the critical t value (computed internally) we get a good p value of 0.0005 and thus we reject the null hypothesis and thus it proves that the mean of the two distributions are different and statistically significant.\n",
    "## Cross Checking with the internal scipy function\n",
    "t2, p2 = stats.ttest_ind(C1_TREMOR, C2_TREMOR) \n",
    "# 結果作為交叉參照\n",
    "print(\"t = \" + str(t2))\n",
    "print(\"p = \" + str(2*p2))"
   ]
  },
  {
   "cell_type": "code",
   "execution_count": 119,
   "metadata": {},
   "outputs": [
    {
     "data": {
      "text/plain": [
       "Ttest_indResult(statistic=3.431096815666135, pvalue=0.0006017346383514938)"
      ]
     },
     "execution_count": 119,
     "metadata": {},
     "output_type": "execute_result"
    }
   ],
   "source": [
    "stats.ttest_ind(C1_TREMOR, C2_TREMOR, axis=0, equal_var=True)"
   ]
  },
  {
   "cell_type": "code",
   "execution_count": 77,
   "metadata": {},
   "outputs": [],
   "source": [
    "n1 = C1_TREMOR + C2_TREMOR"
   ]
  },
  {
   "cell_type": "code",
   "execution_count": 78,
   "metadata": {},
   "outputs": [],
   "source": [
    "loc, scale = norm.fit(n1)\n",
    "post_treat = norm(loc=loc, scale=scale)"
   ]
  },
  {
   "cell_type": "code",
   "execution_count": 120,
   "metadata": {},
   "outputs": [
    {
     "name": "stdout",
     "output_type": "stream",
     "text": [
      "t = 3.431096815666135\n",
      "p-value = 0.0006017346383514938\n"
     ]
    }
   ],
   "source": [
    "t_val, p = ttest_ind(C1_TREMOR, C2_TREMOR)\n",
    "\n",
    "print('t = {}'.format(t_val))\n",
    "print('p-value = {}'.format(p))"
   ]
  },
  {
   "cell_type": "code",
   "execution_count": 121,
   "metadata": {},
   "outputs": [
    {
     "name": "stdout",
     "output_type": "stream",
     "text": [
      "t = 5.690420081129523\n",
      "p-value = 1.2844545483580378e-08\n"
     ]
    }
   ],
   "source": [
    "t_val, p = ttest_rel(C1_TREMOR, C2_TREMOR)\n",
    "\n",
    "print('t = {}'.format(t_val))\n",
    "print('p-value = {}'.format(p))"
   ]
  },
  {
   "cell_type": "code",
   "execution_count": 122,
   "metadata": {},
   "outputs": [
    {
     "data": {
      "text/plain": [
       "Ttest_indResult(statistic=0.3739654573517263, pvalue=0.7084332183308722)"
      ]
     },
     "execution_count": 122,
     "metadata": {},
     "output_type": "execute_result"
    }
   ],
   "source": [
    "stats.ttest_ind(C1_TREMOR, C2_TREMOR, alternative='two-sided', trim=.2)"
   ]
  },
  {
   "cell_type": "code",
   "execution_count": 123,
   "metadata": {},
   "outputs": [],
   "source": [
    "def t_test(group1, group2):\n",
    "    mean1 = np.mean(group1)\n",
    "    mean2 = np.mean(group2)\n",
    "    std1 = np.std(group1)\n",
    "    std2 = np.std(group2)\n",
    "    nobs1 = len(group1)\n",
    "    nobs2 = len(group2)\n",
    "    \n",
    "    modified_std1 = np.sqrt(np.float32(nobs1)/\n",
    "                    np.float32(nobs1-1)) * std1\n",
    "    modified_std2 = np.sqrt(np.float32(nobs2)/\n",
    "                    np.float32(nobs2-1)) * std2\n",
    "    statistic, pvalue = stats.ttest_ind_from_stats( \n",
    "               mean1=mean1, std1=modified_std1, nobs1=nobs1,   \n",
    "               mean2=mean2, std2=modified_std2, nobs2=nobs2 )\n",
    "    return statistic, pvalue"
   ]
  },
  {
   "cell_type": "code",
   "execution_count": 124,
   "metadata": {},
   "outputs": [
    {
     "data": {
      "text/plain": [
       "(3.4310969418218993, 0.0006017343585838898)"
      ]
     },
     "execution_count": 124,
     "metadata": {},
     "output_type": "execute_result"
    }
   ],
   "source": [
    "t_test(C1_TREMOR, C2_TREMOR)"
   ]
  },
  {
   "cell_type": "code",
   "execution_count": null,
   "metadata": {},
   "outputs": [],
   "source": []
  }
 ],
 "metadata": {
  "kernelspec": {
   "display_name": "Python 3",
   "language": "python",
   "name": "python3"
  },
  "language_info": {
   "codemirror_mode": {
    "name": "ipython",
    "version": 3
   },
   "file_extension": ".py",
   "mimetype": "text/x-python",
   "name": "python",
   "nbconvert_exporter": "python",
   "pygments_lexer": "ipython3",
   "version": "3.8.5"
  }
 },
 "nbformat": 4,
 "nbformat_minor": 4
}
